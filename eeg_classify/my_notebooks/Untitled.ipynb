{
 "cells": [
  {
   "cell_type": "markdown",
   "metadata": {},
   "source": [
    "# Import Modules"
   ]
  },
  {
   "cell_type": "code",
   "execution_count": 5,
   "metadata": {},
   "outputs": [],
   "source": [
    "import logging\n",
    "from datetime import datetime\n",
    "import pickle\n",
    "import os\n",
    "import sys\n",
    "sys.path.append(os.path.abspath(os.path.join(os.path.abspath(\"\"), '..', 'braindecode')))\n",
    "\n",
    "import torch.nn.functional as F\n",
    "from torch import optim\n",
    "import torch as th\n",
    "\n",
    "from braindecode.models.deep4 import Deep4Net\n",
    "from braindecode.models.util import to_dense_prediction_model\n",
    "from braindecode.experiments.experiment import Experiment\n",
    "from braindecode.experiments.monitors import LossMonitor, MisclassMonitor, \\\n",
    "    RuntimeMonitor, CroppedTrialMisclassMonitor\n",
    "from braindecode.experiments.stopcriteria import MaxEpochs, NoDecrease, Or\n",
    "from braindecode.datautil.iterators import CropsFromTrialsIterator\n",
    "from braindecode.models.shallow_fbcsp import ShallowFBCSPNet\n",
    "from braindecode.torch_ext.constraints import MaxNormDefaultConstraint\n",
    "from braindecode.torch_ext.util import set_random_seeds, np_to_var\n",
    "\n",
    "log = logging.getLogger(__name__)"
   ]
  },
  {
   "cell_type": "markdown",
   "metadata": {},
   "source": [
    "# Load Data"
   ]
  },
  {
   "cell_type": "code",
   "execution_count": 12,
   "metadata": {},
   "outputs": [],
   "source": [
    "bcic_pickle_folder = os.path.abspath(os.path.join(os.path.abspath(\"\"), '..', 'data/pickled_bcic_iv_2a'))\n",
    "bcic_pickle_folder += \"/\"\n",
    "subject_id = 1  # 1-9\n",
    "\n",
    "# Load data:\n",
    "with open(f'{bcic_pickle_folder}{subject_id}_train_set.pickle', 'rb') as f:\n",
    "    train_set = pickle.load(f)\n",
    "with open(f'{bcic_pickle_folder}{subject_id}_valid_set.pickle', 'rb') as f:\n",
    "    valid_set = pickle.load(f)\n",
    "with open(f'{bcic_pickle_folder}{subject_id}_test_set.pickle', 'rb') as f:\n",
    "    test_set = pickle.load(f)\n",
    "\n"
   ]
  },
  {
   "cell_type": "markdown",
   "metadata": {},
   "source": [
    "# Build Model"
   ]
  },
  {
   "cell_type": "code",
   "execution_count": null,
   "metadata": {},
   "outputs": [],
   "source": [
    "# Experiment parameters\n",
    "model_type = 'shallow'  # 'shallow' or 'deep'\n",
    "cuda = False\n",
    "\n",
    "# Set model training parameters\n",
    "input_time_length = 1000\n",
    "max_epochs = 3  # default = 800\n",
    "max_increase_epochs = 80\n",
    "batch_size = 60\n",
    "\n",
    "# Build model:\n",
    "set_random_seeds(seed=20190706, cuda=cuda)  # Set seeds for python random module numpy.random and torch.\n",
    "n_classes = 4\n",
    "n_chans = int(train_set.X.shape[1])  # number of channels\n",
    "\n",
    "# model = sequential pytorch model (conv2D)\n",
    "if model_type == 'shallow':\n",
    "    model = ShallowFBCSPNet(n_chans, n_classes, input_time_length=input_time_length,\n",
    "                            final_conv_length=30).create_network()\n",
    "elif model_type == 'deep':\n",
    "    model = Deep4Net(n_chans, n_classes, input_time_length=input_time_length, final_conv_length=2).create_network()\n",
    "\n",
    "# Transform a sequential model with strides to a model that outputs dense predictions\n",
    "# by removing the strides and instead inserting dilations.\n",
    "to_dense_prediction_model(model)\n",
    "\n",
    "# Log how the model looks thusfar\n",
    "log.info(\"Model: \\n{:s}\".format(str(model)))\n",
    "\n",
    "# Activate cuda if possible\n",
    "if cuda:\n",
    "    model.cuda()\n",
    "\n",
    "# Because cropped, number of predictions per input/trial has to be determined\n",
    "dummy_input = np_to_var(train_set.X[:1, :, :, None])  # a single trial, all channels, all measurements\n",
    "if cuda:\n",
    "    dummy_input = dummy_input.cuda()\n",
    "out = model(dummy_input)\n",
    "n_preds_per_input = out.cpu().data.numpy().shape[2]\n",
    "\n",
    "# Set optimizer\n",
    "optimizer = optim.Adam(model.parameters())\n",
    "\n",
    "# Set what one training iteration entails\n",
    "iterator = CropsFromTrialsIterator(batch_size=batch_size, input_time_length=input_time_length,\n",
    "                                   n_preds_per_input=n_preds_per_input)\n",
    "\n",
    "# When to stop training\n",
    "stop_criterion = Or([MaxEpochs(max_epochs), NoDecrease('valid_misclass', max_increase_epochs)])\n",
    "\n",
    "# Keep track of how the model is performing during training:\n",
    "monitors = [LossMonitor(), MisclassMonitor(col_suffix='sample_misclass'),\n",
    "            CroppedTrialMisclassMonitor(input_time_length=input_time_length), RuntimeMonitor()]\n",
    "\n",
    "# ?Not sure yet?\n",
    "model_constraint = MaxNormDefaultConstraint()\n",
    "\n",
    "# Set loss function to be minimized\n",
    "loss_function = lambda preds, targets: F.nll_loss(th.mean(preds, dim=2, keepdim=False), targets)\n",
    "\n",
    "# Initialize and run experiment\n",
    "exp = Experiment(model, train_set, valid_set, test_set, iterator=iterator,\n",
    "                 loss_function=loss_function, optimizer=optimizer,\n",
    "                 model_constraint=model_constraint,\n",
    "                 monitors=monitors,\n",
    "                 stop_criterion=stop_criterion,\n",
    "                 remember_best_column='valid_misclass',\n",
    "                 run_after_early_stop=True, cuda=cuda)\n",
    "exp.run()"
   ]
  },
  {
   "cell_type": "code",
   "execution_count": null,
   "metadata": {},
   "outputs": [],
   "source": []
  }
 ],
 "metadata": {
  "kernelspec": {
   "display_name": "Python 3",
   "language": "python",
   "name": "python3"
  },
  "language_info": {
   "codemirror_mode": {
    "name": "ipython",
    "version": 3
   },
   "file_extension": ".py",
   "mimetype": "text/x-python",
   "name": "python",
   "nbconvert_exporter": "python",
   "pygments_lexer": "ipython3",
   "version": "3.7.2"
  }
 },
 "nbformat": 4,
 "nbformat_minor": 2
}
