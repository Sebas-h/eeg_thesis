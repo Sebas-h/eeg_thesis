{
 "cells": [
  {
   "cell_type": "markdown",
   "metadata": {},
   "source": [
    "# Import Modules"
   ]
  },
  {
   "cell_type": "code",
   "execution_count": 5,
   "metadata": {},
   "outputs": [],
   "source": [
    "import logging\n",
    "from datetime import datetime\n",
    "import pickle\n",
    "import os\n",
    "import sys\n",
    "sys.path.append(os.path.abspath(os.path.join(os.path.abspath(\"\"), '..', 'braindecode')))\n",
    "\n",
    "import torch.nn.functional as F\n",
    "from torch import optim\n",
    "import torch as th\n",
    "\n",
    "from braindecode.models.deep4 import Deep4Net\n",
    "from braindecode.models.util import to_dense_prediction_model\n",
    "from braindecode.experiments.experiment import Experiment\n",
    "from braindecode.experiments.monitors import LossMonitor, MisclassMonitor, \\\n",
    "    RuntimeMonitor, CroppedTrialMisclassMonitor\n",
    "from braindecode.experiments.stopcriteria import MaxEpochs, NoDecrease, Or\n",
    "from braindecode.datautil.iterators import CropsFromTrialsIterator\n",
    "from braindecode.models.shallow_fbcsp import ShallowFBCSPNet\n",
    "from braindecode.torch_ext.constraints import MaxNormDefaultConstraint\n",
    "from braindecode.torch_ext.util import set_random_seeds, np_to_var\n",
    "\n",
    "log = logging.getLogger(__name__)"
   ]
  },
  {
   "cell_type": "code",
   "execution_count": 12,
   "metadata": {},
   "outputs": [],
   "source": [
    "bcic_pickle_folder = os.path.abspath(os.path.join(os.path.abspath(\"\"), '..', 'data/pickled_bcic_iv_2a'))\n",
    "bcic_pickle_folder += \"/\"\n",
    "subject_id = 1\n",
    "\n",
    "# Load data:\n",
    "with open(f'{bcic_pickle_folder}{subject_id}_train_set.pickle', 'rb') as f:\n",
    "    train_set = pickle.load(f)\n",
    "with open(f'{bcic_pickle_folder}{subject_id}_valid_set.pickle', 'rb') as f:\n",
    "    valid_set = pickle.load(f)\n",
    "with open(f'{bcic_pickle_folder}{subject_id}_test_set.pickle', 'rb') as f:\n",
    "    test_set = pickle.load(f)\n",
    "\n"
   ]
  },
  {
   "cell_type": "code",
   "execution_count": null,
   "metadata": {},
   "outputs": [],
   "source": []
  }
 ],
 "metadata": {
  "kernelspec": {
   "display_name": "Python 3",
   "language": "python",
   "name": "python3"
  },
  "language_info": {
   "codemirror_mode": {
    "name": "ipython",
    "version": 3
   },
   "file_extension": ".py",
   "mimetype": "text/x-python",
   "name": "python",
   "nbconvert_exporter": "python",
   "pygments_lexer": "ipython3",
   "version": "3.7.2"
  }
 },
 "nbformat": 4,
 "nbformat_minor": 2
}
